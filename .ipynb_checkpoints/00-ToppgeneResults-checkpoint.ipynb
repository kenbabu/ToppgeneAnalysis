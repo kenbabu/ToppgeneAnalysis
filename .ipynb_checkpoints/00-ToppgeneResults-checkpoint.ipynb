{
 "cells": [
  {
   "cell_type": "markdown",
   "metadata": {},
   "source": [
    "# Toppgene Results"
   ]
  },
  {
   "cell_type": "code",
   "execution_count": 6,
   "metadata": {},
   "outputs": [],
   "source": [
    "import os\n",
    "import csv"
   ]
  },
  {
   "cell_type": "code",
   "execution_count": 2,
   "metadata": {},
   "outputs": [],
   "source": [
    "Datadir='/home/user/2020/PythonScripts/Toppgene/Results'"
   ]
  },
  {
   "cell_type": "code",
   "execution_count": 9,
   "metadata": {},
   "outputs": [
    {
     "name": "stdout",
     "output_type": "stream",
     "text": [
      "row['GeneSymbol']\trow['Rank']\n",
      "row['GeneSymbol']\trow['Rank']\n",
      "row['GeneSymbol']\trow['Rank']\n",
      "row['GeneSymbol']\trow['Rank']\n",
      "row['GeneSymbol']\trow['Rank']\n",
      "row['GeneSymbol']\trow['Rank']\n",
      "row['GeneSymbol']\trow['Rank']\n",
      "row['GeneSymbol']\trow['Rank']\n",
      "row['GeneSymbol']\trow['Rank']\n",
      "row['GeneSymbol']\trow['Rank']\n",
      "row['GeneSymbol']\trow['Rank']\n",
      "row['GeneSymbol']\trow['Rank']\n",
      "row['GeneSymbol']\trow['Rank']\n",
      "row['GeneSymbol']\trow['Rank']\n",
      "row['GeneSymbol']\trow['Rank']\n",
      "row['GeneSymbol']\trow['Rank']\n",
      "row['GeneSymbol']\trow['Rank']\n",
      "row['GeneSymbol']\trow['Rank']\n",
      "row['GeneSymbol']\trow['Rank']\n",
      "row['GeneSymbol']\trow['Rank']\n",
      "row['GeneSymbol']\trow['Rank']\n",
      "row['GeneSymbol']\trow['Rank']\n",
      "row['GeneSymbol']\trow['Rank']\n",
      "row['GeneSymbol']\trow['Rank']\n",
      "row['GeneSymbol']\trow['Rank']\n",
      "row['GeneSymbol']\trow['Rank']\n",
      "row['GeneSymbol']\trow['Rank']\n",
      "row['GeneSymbol']\trow['Rank']\n",
      "row['GeneSymbol']\trow['Rank']\n",
      "row['GeneSymbol']\trow['Rank']\n",
      "row['GeneSymbol']\trow['Rank']\n",
      "row['GeneSymbol']\trow['Rank']\n",
      "row['GeneSymbol']\trow['Rank']\n",
      "row['GeneSymbol']\trow['Rank']\n",
      "row['GeneSymbol']\trow['Rank']\n",
      "row['GeneSymbol']\trow['Rank']\n"
     ]
    }
   ],
   "source": [
    "\n",
    "for file in os.listdir(Datadir)[:1]:\n",
    "    with open(os.path.join(Datadir, file)) as infile:\n",
    "        csv_reader = csv.DictReader(infile)\n",
    "        line_count = 0\n",
    "        for row in csv_reader:\n",
    "            if line_count == 0:\n",
    "#                 print(f\"Column names: {', '.join(row)}\")\n",
    "                line_count += 1\n",
    "            print(f\"{row['GeneSymbol']}\\t{row['Rank']}\")\n",
    "            \n",
    "        "
   ]
  }
 ],
 "metadata": {
  "kernelspec": {
   "display_name": "Python 3",
   "language": "python",
   "name": "python3"
  },
  "language_info": {
   "codemirror_mode": {
    "name": "ipython",
    "version": 3
   },
   "file_extension": ".py",
   "mimetype": "text/x-python",
   "name": "python",
   "nbconvert_exporter": "python",
   "pygments_lexer": "ipython3",
   "version": "3.7.3"
  }
 },
 "nbformat": 4,
 "nbformat_minor": 2
}
